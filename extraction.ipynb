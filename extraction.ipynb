{
 "cells": [
  {
   "cell_type": "code",
   "execution_count": null,
   "id": "76569cd0",
   "metadata": {},
   "outputs": [],
   "source": [
    "import numpy as np\n",
    "import os\n",
    "from skimage import io, img_as_ubyte\n",
    "from skimage.transform import resize\n",
    "import h5py\n",
    "from skimage.filters import roberts, sobel\n",
    "from skimage.color import rgb2lab, rgb2gray\n",
    "import cv2\n",
    "from skimage.filters.rank import entropy\n",
    "from skimage.morphology import disk\n",
    "from PIL import Image\n",
    "from extraction_backup import extract_features\n",
    "import h5py"
   ]
  },
  {
   "cell_type": "code",
   "execution_count": null,
   "id": "cad7caea",
   "metadata": {},
   "outputs": [],
   "source": []
  },
  {
   "cell_type": "code",
   "execution_count": null,
   "id": "6d4462b8",
   "metadata": {
    "scrolled": true
   },
   "outputs": [],
   "source": [
    "\n",
    "base_path = \"PlantVillage\"\n",
    "tomato_diseases = [\n",
    "    \"Tomato_Early_blight\", \"Tomato_healthy\",\n",
    "    \"Tomato_Leaf_Mold\"\n",
    "]\n",
    "\n",
    "feats = []\n",
    "names = []\n",
    "\n",
    "for disease in tomato_diseases:\n",
    "    path = os.path.join(base_path, disease)\n",
    "    for im in os.listdir(path):\n",
    "        img_path = os.path.join(path, im)\n",
    "        print(f\"Extracting features from image - {img_path}\")\n",
    "        img = io.imread(img_path)\n",
    "        \n",
    "        # temp provision to handle 4-channel images\n",
    "        if img.shape[-1] == 4:\n",
    "            img = img[:, :, :3]\n",
    "        \n",
    "        X = extract_features(img)\n",
    "        feats.append(X)\n",
    "        names.append(img_path)\n",
    "\n",
    "feats = np.array(feats)\n",
    "names = np.array(names, dtype='S') \n",
    "\n",
    "# Save features to hdf5 file incrementally\n",
    "feature_file = \"CustomFeatures.h5\"\n",
    "print(\"Saving features to H5 file\")\n",
    "\n",
    "with h5py.File(feature_file, 'a') as h5f:\n",
    "    if 'dataset_1' in h5f:\n",
    "        existing_feats = h5f['dataset_1'][:]\n",
    "        existing_names = h5f['dataset_2'][:]\n",
    "        all_feats = np.concatenate((existing_feats, feats), axis=0)\n",
    "        all_names = np.concatenate((existing_names, names), axis=0)\n",
    "        del h5f['dataset_1']\n",
    "        del h5f['dataset_2']\n",
    "        h5f.create_dataset('dataset_1', data=all_feats)\n",
    "        h5f.create_dataset('dataset_2', data=all_names)\n",
    "    else:\n",
    "        h5f.create_dataset('dataset_1', data=feats)\n",
    "        h5f.create_dataset('dataset_2', data=names)\n",
    "\n",
    "print(\"Features saved successfully!\")"
   ]
  },
  {
   "cell_type": "code",
   "execution_count": null,
   "id": "3f7fd3c6",
   "metadata": {},
   "outputs": [],
   "source": [
    "file_size = os.path.getsize('CustomFeatures.h5')\n",
    "print(file_size)"
   ]
  },
  {
   "cell_type": "code",
   "execution_count": null,
   "id": "607dd1d0",
   "metadata": {},
   "outputs": [],
   "source": []
  }
 ],
 "metadata": {
  "kernelspec": {
   "display_name": "Python 3 (ipykernel)",
   "language": "python",
   "name": "python3"
  },
  "language_info": {
   "codemirror_mode": {
    "name": "ipython",
    "version": 3
   },
   "file_extension": ".py",
   "mimetype": "text/x-python",
   "name": "python",
   "nbconvert_exporter": "python",
   "pygments_lexer": "ipython3",
   "version": "3.11.3"
  }
 },
 "nbformat": 4,
 "nbformat_minor": 5
}
